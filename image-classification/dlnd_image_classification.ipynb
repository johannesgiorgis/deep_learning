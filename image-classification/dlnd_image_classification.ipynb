{
 "cells": [
  {
   "cell_type": "markdown",
   "metadata": {
    "collapsed": true
   },
   "source": [
    "# Image Classification\n",
    "In this project, you'll classify images from the [CIFAR-10 dataset](https://www.cs.toronto.edu/~kriz/cifar.html).  The dataset consists of airplanes, dogs, cats, and other objects. You'll preprocess the images, then train a convolutional neural network on all the samples. The images need to be normalized and the labels need to be one-hot encoded.  You'll get to apply what you learned and build a convolutional, max pooling, dropout, and fully connected layers.  At the end, you'll get to see your neural network's predictions on the sample images.\n",
    "## Get the Data\n",
    "Run the following cell to download the [CIFAR-10 dataset for python](https://www.cs.toronto.edu/~kriz/cifar-10-python.tar.gz)."
   ]
  },
  {
   "cell_type": "code",
   "execution_count": 1,
   "metadata": {},
   "outputs": [
    {
     "name": "stdout",
     "output_type": "stream",
     "text": [
      "All files found!\n"
     ]
    }
   ],
   "source": [
    "\"\"\"\n",
    "DON'T MODIFY ANYTHING IN THIS CELL THAT IS BELOW THIS LINE\n",
    "\"\"\"\n",
    "from urllib.request import urlretrieve\n",
    "from os.path import isfile, isdir\n",
    "from tqdm import tqdm\n",
    "import problem_unittests as tests\n",
    "import tarfile\n",
    "\n",
    "cifar10_dataset_folder_path = 'cifar-10-batches-py'\n",
    "\n",
    "# Use Floyd's cifar-10 dataset if present\n",
    "floyd_cifar10_location = '/input/cifar-10/python.tar.gz'\n",
    "if isfile(floyd_cifar10_location):\n",
    "    tar_gz_path = floyd_cifar10_location\n",
    "else:\n",
    "    tar_gz_path = 'cifar-10-python.tar.gz'\n",
    "\n",
    "class DLProgress(tqdm):\n",
    "    last_block = 0\n",
    "\n",
    "    def hook(self, block_num=1, block_size=1, total_size=None):\n",
    "        self.total = total_size\n",
    "        self.update((block_num - self.last_block) * block_size)\n",
    "        self.last_block = block_num\n",
    "\n",
    "if not isfile(tar_gz_path):\n",
    "    with DLProgress(unit='B', unit_scale=True, miniters=1, desc='CIFAR-10 Dataset') as pbar:\n",
    "        urlretrieve(\n",
    "            'https://www.cs.toronto.edu/~kriz/cifar-10-python.tar.gz',\n",
    "            tar_gz_path,\n",
    "            pbar.hook)\n",
    "\n",
    "if not isdir(cifar10_dataset_folder_path):\n",
    "    with tarfile.open(tar_gz_path) as tar:\n",
    "        tar.extractall()\n",
    "        tar.close()\n",
    "\n",
    "\n",
    "tests.test_folder_path(cifar10_dataset_folder_path)"
   ]
  },
  {
   "cell_type": "markdown",
   "metadata": {},
   "source": [
    "## Explore the Data\n",
    "The dataset is broken into batches to prevent your machine from running out of memory.  The CIFAR-10 dataset consists of 5 batches, named `data_batch_1`, `data_batch_2`, etc.. Each batch contains the labels and images that are one of the following:\n",
    "* airplane\n",
    "* automobile\n",
    "* bird\n",
    "* cat\n",
    "* deer\n",
    "* dog\n",
    "* frog\n",
    "* horse\n",
    "* ship\n",
    "* truck\n",
    "\n",
    "Understanding a dataset is part of making predictions on the data.  Play around with the code cell below by changing the `batch_id` and `sample_id`. The `batch_id` is the id for a batch (1-5). The `sample_id` is the id for a image and label pair in the batch.\n",
    "\n",
    "Ask yourself \"What are all possible labels?\", \"What is the range of values for the image data?\", \"Are the labels in order or random?\".  Answers to questions like these will help you preprocess the data and end up with better predictions."
   ]
  },
  {
   "cell_type": "code",
   "execution_count": 2,
   "metadata": {},
   "outputs": [
    {
     "name": "stdout",
     "output_type": "stream",
     "text": [
      "\n",
      "Stats of batch 4:\n",
      "Samples: 10000\n",
      "Label Counts: {0: 1003, 1: 963, 2: 1041, 3: 976, 4: 1004, 5: 1021, 6: 1004, 7: 981, 8: 1024, 9: 983}\n",
      "First 20 Labels: [0, 6, 0, 2, 7, 2, 1, 2, 4, 1, 5, 6, 6, 3, 1, 3, 5, 5, 8, 1]\n",
      "\n",
      "Example of Image 6:\n",
      "Image - Min Value: 5 Max Value: 255\n",
      "Image - Shape: (32, 32, 3)\n",
      "Label - Label Id: 1 Name: automobile\n"
     ]
    },
    {
     "data": {
      "image/png": "[encoded data removed]",
      "text/plain": [
       "<matplotlib.figure.Figure at 0x7f66d23a7828>"
      ]
     },
     "metadata": {
      "image/png": {
       "height": 250,
       "width": 253
      }
     },
     "output_type": "display_data"
    }
   ],
   "source": [
    "%matplotlib inline\n",
    "%config InlineBackend.figure_format = 'retina'\n",
    "\n",
    "import helper\n",
    "import numpy as np\n",
    "\n",
    "# Explore the dataset\n",
    "batch_id = 4\n",
    "sample_id = 6\n",
    "helper.display_stats(cifar10_dataset_folder_path, batch_id, sample_id)"
   ]
  },
  {
   "cell_type": "markdown",
   "metadata": {},
   "source": [
    "## Implement Preprocess Functions\n",
    "### Normalize\n",
    "In the cell below, implement the `normalize` function to take in image data, `x`, and return it as a normalized Numpy array. The values should be in the range of 0 to 1, inclusive.  The return object should be the same shape as `x`."
   ]
  },
  {
   "cell_type": "code",
   "execution_count": 3,
   "metadata": {
    "scrolled": true
   },
   "outputs": [
    {
     "name": "stdout",
     "output_type": "stream",
     "text": [
      "Tests Passed\n"
     ]
    }
   ],
   "source": [
    "def normalize(x):\n",
    "    \"\"\"\n",
    "    Normalize a list of sample image data in the range of 0 to 1\n",
    "    : x: List of image data.  The image shape is (32, 32, 3)\n",
    "    : return: Numpy array of normalize data\n",
    "    \"\"\"\n",
    "    max_value = 255\n",
    "    min_value = 0\n",
    "    normalized = (x - min_value) / (max_value - min_value)\n",
    "    return normalized\n",
    "\n",
    "\n",
    "\"\"\"\n",
    "DON'T MODIFY ANYTHING IN THIS CELL THAT IS BELOW THIS LINE\n",
    "\"\"\"\n",
    "tests.test_normalize(normalize)"
   ]
  },
  {
   "cell_type": "markdown",
   "metadata": {},
   "source": [
    "### One-hot encode\n",
    "Just like the previous code cell, you'll be implementing a function for preprocessing.  This time, you'll implement the `one_hot_encode` function. The input, `x`, are a list of labels.  Implement the function to return the list of labels as One-Hot encoded Numpy array.  The possible values for labels are 0 to 9. The one-hot encoding function should return the same encoding for each value between each call to `one_hot_encode`.  Make sure to save the map of encodings outside the function.\n",
    "\n",
    "Hint: Don't reinvent the wheel."
   ]
  },
  {
   "cell_type": "code",
   "execution_count": 4,
   "metadata": {},
   "outputs": [
    {
     "name": "stdout",
     "output_type": "stream",
     "text": [
      "Tests Passed\n"
     ]
    }
   ],
   "source": [
    "def one_hot_encode(x):\n",
    "    \"\"\"\n",
    "    One hot encode a list of sample labels. Return a one-hot encoded vector for each label.\n",
    "    : x: List of sample Labels\n",
    "    : return: Numpy array of one-hot encoded labels\n",
    "    \"\"\"\n",
    "    y = np.zeros([len(x), 10])\n",
    "    for i in range(len(x)):\n",
    "        #print(x[i])\n",
    "        y[i][x[i]] = 1\n",
    "        #print(y[i])\n",
    "    return y\n",
    "\n",
    "\n",
    "\"\"\"\n",
    "DON'T MODIFY ANYTHING IN THIS CELL THAT IS BELOW THIS LINE\n",
    "\"\"\"\n",
    "tests.test_one_hot_encode(one_hot_encode)"
   ]
  },
  {
   "cell_type": "markdown",
   "metadata": {},
   "source": [
    "### Randomize Data\n",
    "As you saw from exploring the data above, the order of the samples are randomized.  It doesn't hurt to randomize it again, but you don't need to for this dataset."
   ]
  },
  {
   "cell_type": "markdown",
   "metadata": {},
   "source": [
    "## Preprocess all the data and save it\n",
    "Running the code cell below will preprocess all the CIFAR-10 data and save it to file. The code below also uses 10% of the training data for validation."
   ]
  },
  {
   "cell_type": "code",
   "execution_count": 5,
   "metadata": {
    "collapsed": true
   },
   "outputs": [],
   "source": [
    "\"\"\"\n",
    "DON'T MODIFY ANYTHING IN THIS CELL\n",
    "\"\"\"\n",
    "# Preprocess Training, Validation, and Testing Data\n",
    "helper.preprocess_and_save_data(cifar10_dataset_folder_path, normalize, one_hot_encode)"
   ]
  },
  {
   "cell_type": "markdown",
   "metadata": {},
   "source": [
    "# Check Point\n",
    "This is your first checkpoint.  If you ever decide to come back to this notebook or have to restart the notebook, you can start from here.  The preprocessed data has been saved to disk."
   ]
  },
  {
   "cell_type": "code",
   "execution_count": 6,
   "metadata": {
    "collapsed": true
   },
   "outputs": [],
   "source": [
    "\"\"\"\n",
    "DON'T MODIFY ANYTHING IN THIS CELL\n",
    "\"\"\"\n",
    "import pickle\n",
    "import problem_unittests as tests\n",
    "import helper\n",
    "\n",
    "# Load the Preprocessed Validation data\n",
    "valid_features, valid_labels = pickle.load(open('preprocess_validation.p', mode='rb'))"
   ]
  },
  {
   "cell_type": "markdown",
   "metadata": {},
   "source": [
    "## Build the network\n",
    "For the neural network, you'll build each layer into a function.  Most of the code you've seen has been outside of functions. To test your code more thoroughly, we require that you put each layer in a function.  This allows us to give you better feedback and test for simple mistakes using our unittests before you submit your project.\n",
    "\n",
    ">**Note:** If you're finding it hard to dedicate enough time for this course each week, we've provided a small shortcut to this part of the project. In the next couple of problems, you'll have the option to use classes from the [TensorFlow Layers](https://www.tensorflow.org/api_docs/python/tf/layers) or [TensorFlow Layers (contrib)](https://www.tensorflow.org/api_guides/python/contrib.layers) packages to build each layer, except the layers you build in the \"Convolutional and Max Pooling Layer\" section.  TF Layers is similar to Keras's and TFLearn's abstraction to layers, so it's easy to pickup.\n",
    "\n",
    ">However, if you would like to get the most out of this course, try to solve all the problems _without_ using anything from the TF Layers packages. You **can** still use classes from other packages that happen to have the same name as ones you find in TF Layers! For example, instead of using the TF Layers version of the `conv2d` class, [tf.layers.conv2d](https://www.tensorflow.org/api_docs/python/tf/layers/conv2d), you would want to use the TF Neural Network version of `conv2d`, [tf.nn.conv2d](https://www.tensorflow.org/api_docs/python/tf/nn/conv2d). \n",
    "\n",
    "Let's begin!\n",
    "\n",
    "### Input\n",
    "The neural network needs to read the image data, one-hot encoded labels, and dropout keep probability. Implement the following functions\n",
    "* Implement `neural_net_image_input`\n",
    " * Return a [TF Placeholder](https://www.tensorflow.org/api_docs/python/tf/placeholder)\n",
    " * Set the shape using `image_shape` with batch size set to `None`.\n",
    " * Name the TensorFlow placeholder \"x\" using the TensorFlow `name` parameter in the [TF Placeholder](https://www.tensorflow.org/api_docs/python/tf/placeholder).\n",
    "* Implement `neural_net_label_input`\n",
    " * Return a [TF Placeholder](https://www.tensorflow.org/api_docs/python/tf/placeholder)\n",
    " * Set the shape using `n_classes` with batch size set to `None`.\n",
    " * Name the TensorFlow placeholder \"y\" using the TensorFlow `name` parameter in the [TF Placeholder](https://www.tensorflow.org/api_docs/python/tf/placeholder).\n",
    "* Implement `neural_net_keep_prob_input`\n",
    " * Return a [TF Placeholder](https://www.tensorflow.org/api_docs/python/tf/placeholder) for dropout keep probability.\n",
    " * Name the TensorFlow placeholder \"keep_prob\" using the TensorFlow `name` parameter in the [TF Placeholder](https://www.tensorflow.org/api_docs/python/tf/placeholder).\n",
    "\n",
    "These names will be used at the end of the project to load your saved model.\n",
    "\n",
    "Note: `None` for shapes in TensorFlow allow for a dynamic size."
   ]
  },
  {
   "cell_type": "code",
   "execution_count": 7,
   "metadata": {},
   "outputs": [
    {
     "name": "stdout",
     "output_type": "stream",
     "text": [
      "Image Input Tests Passed.\n",
      "Label Input Tests Passed.\n",
      "Keep Prob Tests Passed.\n"
     ]
    }
   ],
   "source": [
    "import tensorflow as tf\n",
    "\n",
    "def neural_net_image_input(image_shape):\n",
    "    \"\"\"\n",
    "    Return a Tensor for a batch of image input\n",
    "    : image_shape: Shape of the images\n",
    "    : return: Tensor for image input.\n",
    "    \"\"\"\n",
    "    image_input = tf.placeholder(tf.float32, shape=(None, image_shape[0], image_shape[1], image_shape[2]), name='x')\n",
    "    return image_input\n",
    "\n",
    "\n",
    "def neural_net_label_input(n_classes):\n",
    "    \"\"\"\n",
    "    Return a Tensor for a batch of label input\n",
    "    : n_classes: Number of classes\n",
    "    : return: Tensor for label input.\n",
    "    \"\"\"\n",
    "    label_input = tf.placeholder(tf.float32, shape=(None, n_classes), name='y')\n",
    "    return label_input\n",
    "\n",
    "\n",
    "def neural_net_keep_prob_input():\n",
    "    \"\"\"\n",
    "    Return a Tensor for keep probability\n",
    "    : return: Tensor for keep probability.\n",
    "    \"\"\"\n",
    "    keep_prob = tf.placeholder(tf.float32, name='keep_prob')\n",
    "    return keep_prob\n",
    "\n",
    "\n",
    "\"\"\"\n",
    "DON'T MODIFY ANYTHING IN THIS CELL THAT IS BELOW THIS LINE\n",
    "\"\"\"\n",
    "tf.reset_default_graph()\n",
    "tests.test_nn_image_inputs(neural_net_image_input)\n",
    "tests.test_nn_label_inputs(neural_net_label_input)\n",
    "tests.test_nn_keep_prob_inputs(neural_net_keep_prob_input)"
   ]
  },
  {
   "cell_type": "markdown",
   "metadata": {},
   "source": [
    "### Convolution and Max Pooling Layer\n",
    "Convolution layers have a lot of success with images. For this code cell, you should implement the function `conv2d_maxpool` to apply convolution then max pooling:\n",
    "* Create the weight and bias using `conv_ksize`, `conv_num_outputs` and the shape of `x_tensor`.\n",
    "* Apply a convolution to `x_tensor` using weight and `conv_strides`.\n",
    " * We recommend you use same padding, but you're welcome to use any padding.\n",
    "* Add bias\n",
    "* Add a nonlinear activation to the convolution.\n",
    "* Apply Max Pooling using `pool_ksize` and `pool_strides`.\n",
    " * We recommend you use same padding, but you're welcome to use any padding.\n",
    "\n",
    "**Note:** You **can't** use [TensorFlow Layers](https://www.tensorflow.org/api_docs/python/tf/layers) or [TensorFlow Layers (contrib)](https://www.tensorflow.org/api_guides/python/contrib.layers) for **this** layer, but you can still use TensorFlow's [Neural Network](https://www.tensorflow.org/api_docs/python/tf/nn) package. You may still use the shortcut option for all the **other** layers."
   ]
  },
  {
   "cell_type": "code",
   "execution_count": 30,
   "metadata": {},
   "outputs": [
    {
     "name": "stdout",
     "output_type": "stream",
     "text": [
      "Tests Passed\n"
     ]
    }
   ],
   "source": [
    "def conv2d_maxpool(x_tensor, conv_num_outputs, conv_ksize, conv_strides, pool_ksize, pool_strides):\n",
    "    \"\"\"\n",
    "    Apply convolution then max pooling to x_tensor\n",
    "    :param x_tensor: TensorFlow Tensor\n",
    "    :param conv_num_outputs: Number of outputs for the convolutional layer\n",
    "    :param conv_ksize: kernal size 2-D Tuple for the convolutional layer\n",
    "    :param conv_strides: Stride 2-D Tuple for convolution\n",
    "    :param pool_ksize: kernal size 2-D Tuple for pool\n",
    "    :param pool_strides: Stride 2-D Tuple for pool\n",
    "    : return: A tensor that represents convolution and max pooling of x_tensor\n",
    "    \"\"\"\n",
    "    \n",
    "    # Create weight and bias\n",
    "    weight = tf.Variable(tf.truncated_normal([conv_ksize[0], \n",
    "                                           conv_ksize[1], \n",
    "                                           x_tensor.get_shape()[3].value, \n",
    "                                           conv_num_outputs], \n",
    "                         stddev=0.01))\n",
    "    bias = tf.Variable(tf.random_normal([conv_num_outputs]))\n",
    "    \n",
    "    # Apply a convolution to x_tensor using weight and conv_strides with 'SAME' padding\n",
    "    conv1 = tf.nn.conv2d(x_tensor, weight, [1, conv_strides[0], conv_strides[1], 1], padding='SAME')\n",
    "    \n",
    "    # Add bias\n",
    "    conv1 = tf.nn.bias_add(conv1, bias)\n",
    "    \n",
    "    # Add nonlinear activation to the convolution\n",
    "    conv1 = tf.nn.relu(conv1)\n",
    "    \n",
    "    # Apply Max Pooling using pool_ksize and pool_strides\n",
    "    conv1 = tf.nn.max_pool(\n",
    "        conv1,\n",
    "        ksize=[1, pool_ksize[0], pool_ksize[1], 1],\n",
    "        strides=[1, pool_strides[0], pool_strides[1], 1],\n",
    "        padding='SAME')\n",
    "    \n",
    "    return conv1\n",
    "\n",
    "\n",
    "\"\"\"\n",
    "DON'T MODIFY ANYTHING IN THIS CELL THAT IS BELOW THIS LINE\n",
    "\"\"\"\n",
    "tests.test_con_pool(conv2d_maxpool)"
   ]
  },
  {
   "cell_type": "markdown",
   "metadata": {},
   "source": [
    "### Flatten Layer\n",
    "Implement the `flatten` function to change the dimension of `x_tensor` from a 4-D tensor to a 2-D tensor.  The output should be the shape (*Batch Size*, *Flattened Image Size*). Shortcut option: you can use classes from the [TensorFlow Layers](https://www.tensorflow.org/api_docs/python/tf/layers) or [TensorFlow Layers (contrib)](https://www.tensorflow.org/api_guides/python/contrib.layers) packages for this layer. For more of a challenge, only use other TensorFlow packages."
   ]
  },
  {
   "cell_type": "code",
   "execution_count": 9,
   "metadata": {},
   "outputs": [
    {
     "name": "stdout",
     "output_type": "stream",
     "text": [
      "Tests Passed\n"
     ]
    }
   ],
   "source": [
    "from tensorflow.contrib.layers import flatten as contrib_flatten\n",
    "def flatten(x_tensor):\n",
    "    \"\"\"\n",
    "    Flatten x_tensor to (Batch Size, Flattened Image Size)\n",
    "    : x_tensor: A tensor of size (Batch Size, ...), where ... are the image dimensions.\n",
    "    : return: A tensor of size (Batch Size, Flattened Image Size).\n",
    "    \"\"\"\n",
    "    return contrib_flatten(x_tensor)\n",
    "\n",
    "\n",
    "\"\"\"\n",
    "DON'T MODIFY ANYTHING IN THIS CELL THAT IS BELOW THIS LINE\n",
    "\"\"\"\n",
    "tests.test_flatten(flatten)"
   ]
  },
  {
   "cell_type": "markdown",
   "metadata": {},
   "source": [
    "### Fully-Connected Layer\n",
    "Implement the `fully_conn` function to apply a fully connected layer to `x_tensor` with the shape (*Batch Size*, *num_outputs*). Shortcut option: you can use classes from the [TensorFlow Layers](https://www.tensorflow.org/api_docs/python/tf/layers) or [TensorFlow Layers (contrib)](https://www.tensorflow.org/api_guides/python/contrib.layers) packages for this layer. For more of a challenge, only use other TensorFlow packages."
   ]
  },
  {
   "cell_type": "code",
   "execution_count": 22,
   "metadata": {},
   "outputs": [
    {
     "name": "stdout",
     "output_type": "stream",
     "text": [
      "Tests Passed\n"
     ]
    }
   ],
   "source": [
    "from tensorflow.contrib.layers import fully_connected\n",
    "def fully_conn(x_tensor, num_outputs):\n",
    "    \"\"\"\n",
    "    Apply a fully connected layer to x_tensor using weight and bias\n",
    "    : x_tensor: A 2-D tensor where the first dimension is batch size.\n",
    "    : num_outputs: The number of output that the new tensor should be.\n",
    "    : return: A 2-D tensor where the second dimension is num_outputs.\n",
    "    \"\"\"\n",
    "    return fully_connected(x_tensor, num_outputs, activation_fn=tf.nn.relu)\n",
    "\n",
    "\n",
    "\"\"\"\n",
    "DON'T MODIFY ANYTHING IN THIS CELL THAT IS BELOW THIS LINE\n",
    "\"\"\"\n",
    "tests.test_fully_conn(fully_conn)"
   ]
  },
  {
   "cell_type": "markdown",
   "metadata": {},
   "source": [
    "### Output Layer\n",
    "Implement the `output` function to apply a fully connected layer to `x_tensor` with the shape (*Batch Size*, *num_outputs*). Shortcut option: you can use classes from the [TensorFlow Layers](https://www.tensorflow.org/api_docs/python/tf/layers) or [TensorFlow Layers (contrib)](https://www.tensorflow.org/api_guides/python/contrib.layers) packages for this layer. For more of a challenge, only use other TensorFlow packages.\n",
    "\n",
    "**Note:** Activation, softmax, or cross entropy should **not** be applied to this."
   ]
  },
  {
   "cell_type": "code",
   "execution_count": 11,
   "metadata": {},
   "outputs": [
    {
     "name": "stdout",
     "output_type": "stream",
     "text": [
      "Tests Passed\n"
     ]
    }
   ],
   "source": [
    "def output(x_tensor, num_outputs):\n",
    "    \"\"\"\n",
    "    Apply a output layer to x_tensor using weight and bias\n",
    "    : x_tensor: A 2-D tensor where the first dimension is batch size.\n",
    "    : num_outputs: The number of output that the new tensor should be.\n",
    "    : return: A 2-D tensor where the second dimension is num_outputs.\n",
    "    \"\"\"\n",
    "    # Create weight and bias\n",
    "    weight = tf.Variable(tf.random_normal([x_tensor.get_shape()[-1].value, num_outputs]))\n",
    "    bias = tf.Variable(tf.random_normal([num_outputs]))\n",
    "\n",
    "    output_layer = tf.add(tf.matmul(x_tensor, weight), bias)\n",
    "    \n",
    "    return output_layer\n",
    "\n",
    "\n",
    "\"\"\"\n",
    "DON'T MODIFY ANYTHING IN THIS CELL THAT IS BELOW THIS LINE\n",
    "\"\"\"\n",
    "tests.test_output(output)"
   ]
  },
  {
   "cell_type": "markdown",
   "metadata": {},
   "source": [
    "### Create Convolutional Model\n",
    "Implement the function `conv_net` to create a convolutional neural network model. The function takes in a batch of images, `x`, and outputs logits.  Use the layers you created above to create this model:\n",
    "\n",
    "* Apply 1, 2, or 3 Convolution and Max Pool layers\n",
    "* Apply a Flatten Layer\n",
    "* Apply 1, 2, or 3 Fully Connected Layers\n",
    "* Apply an Output Layer\n",
    "* Return the output\n",
    "* Apply [TensorFlow's Dropout](https://www.tensorflow.org/api_docs/python/tf/nn/dropout) to one or more layers in the model using `keep_prob`. "
   ]
  },
  {
   "cell_type": "code",
   "execution_count": 35,
   "metadata": {},
   "outputs": [
    {
     "name": "stdout",
     "output_type": "stream",
     "text": [
      "Neural Network Built!\n"
     ]
    }
   ],
   "source": [
    "def conv_net(x, keep_prob):\n",
    "    \"\"\"\n",
    "    Create a convolutional neural network model\n",
    "    : x: Placeholder tensor that holds image data.\n",
    "    : keep_prob: Placeholder tensor that hold dropout keep probability.\n",
    "    : return: Tensor that represents logits\n",
    "    \"\"\"\n",
    "    # Declare variables\n",
    "    conv_ksize = (5, 5)\n",
    "    conv_strides = (2, 2)\n",
    "    pool_ksize = (2, 2)\n",
    "    pool_strides = (2, 2)\n",
    "    \n",
    "    \n",
    "    # Apply 1, 2, or 3 Convolution and Max Pool layers\n",
    "    #    Play around with different number of outputs, kernel size and stride\n",
    "    x = conv2d_maxpool(x, 32, conv_ksize, conv_strides, pool_ksize, pool_strides)\n",
    "    x = conv2d_maxpool(x, 64, conv_ksize, conv_strides, pool_ksize, pool_strides)\n",
    "    x = conv2d_maxpool(x, 128, conv_ksize, conv_strides, pool_ksize, pool_strides)\n",
    "    \n",
    "\n",
    "    # Apply a Flatten Layer\n",
    "    x = flatten(x)\n",
    "\n",
    "    \n",
    "    # Apply 1, 2, or 3 Fully Connected Layers\n",
    "    x = fully_conn(x, 128)\n",
    "    x = fully_conn(x, 256)\n",
    "    \n",
    "    # dropout layer\n",
    "    x = tf.nn.dropout(x, keep_prob)\n",
    "    \n",
    "    \n",
    "    # Apply an Output Layer - set this to the number of classes\n",
    "    x = output(x, 10)\n",
    "    \n",
    "    return x\n",
    "\n",
    "\n",
    "\"\"\"\n",
    "DON'T MODIFY ANYTHING IN THIS CELL THAT IS BELOW THIS LINE\n",
    "\"\"\"\n",
    "\n",
    "##############################\n",
    "## Build the Neural Network ##\n",
    "##############################\n",
    "\n",
    "# Remove previous weights, bias, inputs, etc..\n",
    "tf.reset_default_graph()\n",
    "\n",
    "# Inputs\n",
    "x = neural_net_image_input((32, 32, 3))\n",
    "y = neural_net_label_input(10)\n",
    "keep_prob = neural_net_keep_prob_input()\n",
    "\n",
    "# Model\n",
    "logits = conv_net(x, keep_prob)\n",
    "\n",
    "# Name logits Tensor, so that is can be loaded from disk after training\n",
    "logits = tf.identity(logits, name='logits')\n",
    "\n",
    "# Loss and Optimizer\n",
    "cost = tf.reduce_mean(tf.nn.softmax_cross_entropy_with_logits(logits=logits, labels=y))\n",
    "optimizer = tf.train.AdamOptimizer().minimize(cost)\n",
    "\n",
    "# Accuracy\n",
    "correct_pred = tf.equal(tf.argmax(logits, 1), tf.argmax(y, 1))\n",
    "accuracy = tf.reduce_mean(tf.cast(correct_pred, tf.float32), name='accuracy')\n",
    "\n",
    "tests.test_conv_net(conv_net)"
   ]
  },
  {
   "cell_type": "markdown",
   "metadata": {},
   "source": [
    "## Train the Neural Network\n",
    "### Single Optimization\n",
    "Implement the function `train_neural_network` to do a single optimization.  The optimization should use `optimizer` to optimize in `session` with a `feed_dict` of the following:\n",
    "* `x` for image input\n",
    "* `y` for labels\n",
    "* `keep_prob` for keep probability for dropout\n",
    "\n",
    "This function will be called for each batch, so `tf.global_variables_initializer()` has already been called.\n",
    "\n",
    "Note: Nothing needs to be returned. This function is only optimizing the neural network."
   ]
  },
  {
   "cell_type": "code",
   "execution_count": 16,
   "metadata": {},
   "outputs": [
    {
     "name": "stdout",
     "output_type": "stream",
     "text": [
      "Tests Passed\n"
     ]
    }
   ],
   "source": [
    "def train_neural_network(session, optimizer, keep_probability, feature_batch, label_batch):\n",
    "    \"\"\"\n",
    "    Optimize the session on a batch of images and labels\n",
    "    : session: Current TensorFlow session\n",
    "    : optimizer: TensorFlow optimizer function\n",
    "    : keep_probability: keep probability\n",
    "    : feature_batch: Batch of Numpy image data\n",
    "    : label_batch: Batch of Numpy label data\n",
    "    \"\"\"\n",
    "    session.run(optimizer, feed_dict={\n",
    "                x: feature_batch,\n",
    "                y: label_batch,\n",
    "                keep_prob: keep_probability})\n",
    "\n",
    "\n",
    "\"\"\"\n",
    "DON'T MODIFY ANYTHING IN THIS CELL THAT IS BELOW THIS LINE\n",
    "\"\"\"\n",
    "tests.test_train_nn(train_neural_network)"
   ]
  },
  {
   "cell_type": "markdown",
   "metadata": {},
   "source": [
    "### Show Stats\n",
    "Implement the function `print_stats` to print loss and validation accuracy.  Use the global variables `valid_features` and `valid_labels` to calculate validation accuracy.  Use a keep probability of `1.0` to calculate the loss and validation accuracy."
   ]
  },
  {
   "cell_type": "code",
   "execution_count": 17,
   "metadata": {
    "collapsed": true
   },
   "outputs": [],
   "source": [
    "def print_stats(session, feature_batch, label_batch, cost, accuracy):\n",
    "    \"\"\"\n",
    "    Print information about loss and validation accuracy\n",
    "    : session: Current TensorFlow session\n",
    "    : feature_batch: Batch of Numpy image data\n",
    "    : label_batch: Batch of Numpy label data\n",
    "    : cost: TensorFlow cost function\n",
    "    : accuracy: TensorFlow accuracy function\n",
    "    \"\"\"\n",
    "    # Calculate batch loss and accuracy\n",
    "    loss = session.run(cost, feed_dict={\n",
    "        x: feature_batch,\n",
    "        y: label_batch,\n",
    "        keep_prob: 1.})\n",
    "    valid_acc = session.run(accuracy, feed_dict={\n",
    "        x: valid_features,\n",
    "        y: valid_labels,\n",
    "        keep_prob: 1.})\n",
    "\n",
    "    print('Loss: {:>10.4f} Validation Accuracy: {:.6f}'.format(\n",
    "        loss,\n",
    "        valid_acc))"
   ]
  },
  {
   "cell_type": "markdown",
   "metadata": {},
   "source": [
    "### Hyperparameters\n",
    "Tune the following parameters:\n",
    "* Set `epochs` to the number of iterations until the network stops learning or start overfitting\n",
    "* Set `batch_size` to the highest number that your machine has memory for.  Most people set them to common sizes of memory:\n",
    " * 64\n",
    " * 128\n",
    " * 256\n",
    " * ...\n",
    "* Set `keep_probability` to the probability of keeping a node using dropout"
   ]
  },
  {
   "cell_type": "code",
   "execution_count": 38,
   "metadata": {
    "collapsed": true
   },
   "outputs": [],
   "source": [
    "# Tune Parameters\n",
    "epochs = 50\n",
    "batch_size = 128\n",
    "keep_probability = 0.5"
   ]
  },
  {
   "cell_type": "markdown",
   "metadata": {},
   "source": [
    "### Train on a Single CIFAR-10 Batch\n",
    "Instead of training the neural network on all the CIFAR-10 batches of data, let's use a single batch. This should save time while you iterate on the model to get a better accuracy.  Once the final validation accuracy is 50% or greater, run the model on all the data in the next section."
   ]
  },
  {
   "cell_type": "code",
   "execution_count": 39,
   "metadata": {},
   "outputs": [
    {
     "name": "stdout",
     "output_type": "stream",
     "text": [
      "Checking the Training on a Single Batch...\n",
      "Epoch  1, CIFAR-10 Batch 1:  Loss:     2.2913 Validation Accuracy: 0.098600\n",
      "Epoch  2, CIFAR-10 Batch 1:  Loss:     2.1629 Validation Accuracy: 0.213600\n",
      "Epoch  3, CIFAR-10 Batch 1:  Loss:     2.1608 Validation Accuracy: 0.244600\n",
      "Epoch  4, CIFAR-10 Batch 1:  Loss:     2.1479 Validation Accuracy: 0.237400\n",
      "Epoch  5, CIFAR-10 Batch 1:  Loss:     2.1526 Validation Accuracy: 0.260600\n",
      "Epoch  6, CIFAR-10 Batch 1:  Loss:     2.1365 Validation Accuracy: 0.309400\n",
      "Epoch  7, CIFAR-10 Batch 1:  Loss:     2.1221 Validation Accuracy: 0.329000\n",
      "Epoch  8, CIFAR-10 Batch 1:  Loss:     2.0660 Validation Accuracy: 0.347000\n",
      "Epoch  9, CIFAR-10 Batch 1:  Loss:     1.9924 Validation Accuracy: 0.348000\n",
      "Epoch 10, CIFAR-10 Batch 1:  Loss:     1.9414 Validation Accuracy: 0.366200\n",
      "Epoch 11, CIFAR-10 Batch 1:  Loss:     1.7927 Validation Accuracy: 0.383800\n",
      "Epoch 12, CIFAR-10 Batch 1:  Loss:     1.7727 Validation Accuracy: 0.392800\n",
      "Epoch 13, CIFAR-10 Batch 1:  Loss:     1.6736 Validation Accuracy: 0.407400\n",
      "Epoch 14, CIFAR-10 Batch 1:  Loss:     1.5739 Validation Accuracy: 0.420000\n",
      "Epoch 15, CIFAR-10 Batch 1:  Loss:     1.6098 Validation Accuracy: 0.424400\n",
      "Epoch 16, CIFAR-10 Batch 1:  Loss:     1.5204 Validation Accuracy: 0.447000\n",
      "Epoch 17, CIFAR-10 Batch 1:  Loss:     1.4585 Validation Accuracy: 0.444800\n",
      "Epoch 18, CIFAR-10 Batch 1:  Loss:     1.4652 Validation Accuracy: 0.436600\n",
      "Epoch 19, CIFAR-10 Batch 1:  Loss:     1.4372 Validation Accuracy: 0.454200\n",
      "Epoch 20, CIFAR-10 Batch 1:  Loss:     1.3798 Validation Accuracy: 0.444600\n",
      "Epoch 21, CIFAR-10 Batch 1:  Loss:     1.2490 Validation Accuracy: 0.462800\n",
      "Epoch 22, CIFAR-10 Batch 1:  Loss:     1.1750 Validation Accuracy: 0.470000\n",
      "Epoch 23, CIFAR-10 Batch 1:  Loss:     1.1494 Validation Accuracy: 0.457000\n",
      "Epoch 24, CIFAR-10 Batch 1:  Loss:     1.0833 Validation Accuracy: 0.478000\n",
      "Epoch 25, CIFAR-10 Batch 1:  Loss:     1.0968 Validation Accuracy: 0.462400\n",
      "Epoch 26, CIFAR-10 Batch 1:  Loss:     1.0007 Validation Accuracy: 0.463000\n",
      "Epoch 27, CIFAR-10 Batch 1:  Loss:     0.9895 Validation Accuracy: 0.474600\n",
      "Epoch 28, CIFAR-10 Batch 1:  Loss:     0.9006 Validation Accuracy: 0.466200\n",
      "Epoch 29, CIFAR-10 Batch 1:  Loss:     0.8950 Validation Accuracy: 0.480200\n",
      "Epoch 30, CIFAR-10 Batch 1:  Loss:     0.8225 Validation Accuracy: 0.480600\n",
      "Epoch 31, CIFAR-10 Batch 1:  Loss:     0.7697 Validation Accuracy: 0.490400\n",
      "Epoch 32, CIFAR-10 Batch 1:  Loss:     0.7377 Validation Accuracy: 0.500000\n",
      "Epoch 33, CIFAR-10 Batch 1:  Loss:     0.6842 Validation Accuracy: 0.492200\n",
      "Epoch 34, CIFAR-10 Batch 1:  Loss:     0.6490 Validation Accuracy: 0.495400\n",
      "Epoch 35, CIFAR-10 Batch 1:  Loss:     0.7437 Validation Accuracy: 0.466400\n",
      "Epoch 36, CIFAR-10 Batch 1:  Loss:     0.6265 Validation Accuracy: 0.481000\n",
      "Epoch 37, CIFAR-10 Batch 1:  Loss:     0.5992 Validation Accuracy: 0.505800\n",
      "Epoch 38, CIFAR-10 Batch 1:  Loss:     0.5755 Validation Accuracy: 0.498600\n",
      "Epoch 39, CIFAR-10 Batch 1:  Loss:     0.5292 Validation Accuracy: 0.497200\n",
      "Epoch 40, CIFAR-10 Batch 1:  Loss:     0.5202 Validation Accuracy: 0.488600\n",
      "Epoch 41, CIFAR-10 Batch 1:  Loss:     0.4844 Validation Accuracy: 0.503000\n",
      "Epoch 42, CIFAR-10 Batch 1:  Loss:     0.4604 Validation Accuracy: 0.502200\n",
      "Epoch 43, CIFAR-10 Batch 1:  Loss:     0.4380 Validation Accuracy: 0.488200\n",
      "Epoch 44, CIFAR-10 Batch 1:  Loss:     0.4661 Validation Accuracy: 0.472800\n",
      "Epoch 45, CIFAR-10 Batch 1:  Loss:     0.4044 Validation Accuracy: 0.481800\n",
      "Epoch 46, CIFAR-10 Batch 1:  Loss:     0.3880 Validation Accuracy: 0.489400\n",
      "Epoch 47, CIFAR-10 Batch 1:  Loss:     0.3530 Validation Accuracy: 0.494000\n",
      "Epoch 48, CIFAR-10 Batch 1:  Loss:     0.3868 Validation Accuracy: 0.499400\n",
      "Epoch 49, CIFAR-10 Batch 1:  Loss:     0.3482 Validation Accuracy: 0.505200\n",
      "Epoch 50, CIFAR-10 Batch 1:  Loss:     0.4073 Validation Accuracy: 0.492800\n"
     ]
    }
   ],
   "source": [
    "\"\"\"\n",
    "DON'T MODIFY ANYTHING IN THIS CELL\n",
    "\"\"\"\n",
    "print('Checking the Training on a Single Batch...')\n",
    "with tf.Session() as sess:\n",
    "    # Initializing the variables\n",
    "    sess.run(tf.global_variables_initializer())\n",
    "    \n",
    "    # Training cycle\n",
    "    for epoch in range(epochs):\n",
    "        batch_i = 1\n",
    "        for batch_features, batch_labels in helper.load_preprocess_training_batch(batch_i, batch_size):\n",
    "            train_neural_network(sess, optimizer, keep_probability, batch_features, batch_labels)\n",
    "        print('Epoch {:>2}, CIFAR-10 Batch {}:  '.format(epoch + 1, batch_i), end='')\n",
    "        print_stats(sess, batch_features, batch_labels, cost, accuracy)"
   ]
  },
  {
   "cell_type": "markdown",
   "metadata": {},
   "source": [
    "### Fully Train the Model\n",
    "Now that you got a good accuracy with a single CIFAR-10 batch, try it with all five batches."
   ]
  },
  {
   "cell_type": "code",
   "execution_count": 40,
   "metadata": {},
   "outputs": [
    {
     "name": "stdout",
     "output_type": "stream",
     "text": [
      "Training...\n",
      "Epoch  1, CIFAR-10 Batch 1:  Loss:     2.2865 Validation Accuracy: 0.156200\n",
      "Epoch  1, CIFAR-10 Batch 2:  Loss:     2.1821 Validation Accuracy: 0.213400\n",
      "Epoch  1, CIFAR-10 Batch 3:  Loss:     1.9296 Validation Accuracy: 0.246600\n",
      "Epoch  1, CIFAR-10 Batch 4:  Loss:     1.9338 Validation Accuracy: 0.289800\n",
      "Epoch  1, CIFAR-10 Batch 5:  Loss:     1.9228 Validation Accuracy: 0.319200\n",
      "Epoch  2, CIFAR-10 Batch 1:  Loss:     2.0888 Validation Accuracy: 0.336600\n",
      "Epoch  2, CIFAR-10 Batch 2:  Loss:     1.8662 Validation Accuracy: 0.371000\n",
      "Epoch  2, CIFAR-10 Batch 3:  Loss:     1.5282 Validation Accuracy: 0.374400\n",
      "Epoch  2, CIFAR-10 Batch 4:  Loss:     1.5664 Validation Accuracy: 0.403400\n",
      "Epoch  2, CIFAR-10 Batch 5:  Loss:     1.6360 Validation Accuracy: 0.411200\n",
      "Epoch  3, CIFAR-10 Batch 1:  Loss:     1.7903 Validation Accuracy: 0.419000\n",
      "Epoch  3, CIFAR-10 Batch 2:  Loss:     1.7241 Validation Accuracy: 0.418400\n",
      "Epoch  3, CIFAR-10 Batch 3:  Loss:     1.2540 Validation Accuracy: 0.433600\n",
      "Epoch  3, CIFAR-10 Batch 4:  Loss:     1.4883 Validation Accuracy: 0.429600\n",
      "Epoch  3, CIFAR-10 Batch 5:  Loss:     1.5410 Validation Accuracy: 0.443600\n",
      "Epoch  4, CIFAR-10 Batch 1:  Loss:     1.6536 Validation Accuracy: 0.465600\n",
      "Epoch  4, CIFAR-10 Batch 2:  Loss:     1.5257 Validation Accuracy: 0.478600\n",
      "Epoch  4, CIFAR-10 Batch 3:  Loss:     1.2791 Validation Accuracy: 0.454000\n",
      "Epoch  4, CIFAR-10 Batch 4:  Loss:     1.3378 Validation Accuracy: 0.469600\n",
      "Epoch  4, CIFAR-10 Batch 5:  Loss:     1.4986 Validation Accuracy: 0.482800\n",
      "Epoch  5, CIFAR-10 Batch 1:  Loss:     1.4954 Validation Accuracy: 0.488200\n",
      "Epoch  5, CIFAR-10 Batch 2:  Loss:     1.4035 Validation Accuracy: 0.499400\n",
      "Epoch  5, CIFAR-10 Batch 3:  Loss:     1.1653 Validation Accuracy: 0.500200\n",
      "Epoch  5, CIFAR-10 Batch 4:  Loss:     1.2880 Validation Accuracy: 0.505400\n",
      "Epoch  5, CIFAR-10 Batch 5:  Loss:     1.3798 Validation Accuracy: 0.497400\n",
      "Epoch  6, CIFAR-10 Batch 1:  Loss:     1.4170 Validation Accuracy: 0.510600\n",
      "Epoch  6, CIFAR-10 Batch 2:  Loss:     1.2562 Validation Accuracy: 0.504400\n",
      "Epoch  6, CIFAR-10 Batch 3:  Loss:     1.0202 Validation Accuracy: 0.511200\n",
      "Epoch  6, CIFAR-10 Batch 4:  Loss:     1.2104 Validation Accuracy: 0.525800\n",
      "Epoch  6, CIFAR-10 Batch 5:  Loss:     1.2962 Validation Accuracy: 0.512600\n",
      "Epoch  7, CIFAR-10 Batch 1:  Loss:     1.3126 Validation Accuracy: 0.521000\n",
      "Epoch  7, CIFAR-10 Batch 2:  Loss:     1.2354 Validation Accuracy: 0.520000\n",
      "Epoch  7, CIFAR-10 Batch 3:  Loss:     0.9753 Validation Accuracy: 0.521200\n",
      "Epoch  7, CIFAR-10 Batch 4:  Loss:     1.0890 Validation Accuracy: 0.543600\n",
      "Epoch  7, CIFAR-10 Batch 5:  Loss:     1.2047 Validation Accuracy: 0.525600\n",
      "Epoch  8, CIFAR-10 Batch 1:  Loss:     1.2437 Validation Accuracy: 0.547800\n",
      "Epoch  8, CIFAR-10 Batch 2:  Loss:     1.1555 Validation Accuracy: 0.540600\n",
      "Epoch  8, CIFAR-10 Batch 3:  Loss:     0.9068 Validation Accuracy: 0.543400\n",
      "Epoch  8, CIFAR-10 Batch 4:  Loss:     1.0461 Validation Accuracy: 0.556800\n",
      "Epoch  8, CIFAR-10 Batch 5:  Loss:     1.0813 Validation Accuracy: 0.544600\n",
      "Epoch  9, CIFAR-10 Batch 1:  Loss:     1.2445 Validation Accuracy: 0.551600\n",
      "Epoch  9, CIFAR-10 Batch 2:  Loss:     1.1232 Validation Accuracy: 0.552600\n",
      "Epoch  9, CIFAR-10 Batch 3:  Loss:     0.8705 Validation Accuracy: 0.553400\n",
      "Epoch  9, CIFAR-10 Batch 4:  Loss:     0.9653 Validation Accuracy: 0.548000\n",
      "Epoch  9, CIFAR-10 Batch 5:  Loss:     1.0669 Validation Accuracy: 0.554600\n",
      "Epoch 10, CIFAR-10 Batch 1:  Loss:     1.1963 Validation Accuracy: 0.553400\n",
      "Epoch 10, CIFAR-10 Batch 2:  Loss:     1.0752 Validation Accuracy: 0.564000\n",
      "Epoch 10, CIFAR-10 Batch 3:  Loss:     0.8361 Validation Accuracy: 0.564000\n",
      "Epoch 10, CIFAR-10 Batch 4:  Loss:     0.8904 Validation Accuracy: 0.567800\n",
      "Epoch 10, CIFAR-10 Batch 5:  Loss:     0.9711 Validation Accuracy: 0.557400\n",
      "Epoch 11, CIFAR-10 Batch 1:  Loss:     1.1742 Validation Accuracy: 0.554000\n",
      "Epoch 11, CIFAR-10 Batch 2:  Loss:     1.0115 Validation Accuracy: 0.571800\n",
      "Epoch 11, CIFAR-10 Batch 3:  Loss:     0.7718 Validation Accuracy: 0.563600\n",
      "Epoch 11, CIFAR-10 Batch 4:  Loss:     0.8369 Validation Accuracy: 0.571800\n",
      "Epoch 11, CIFAR-10 Batch 5:  Loss:     0.9636 Validation Accuracy: 0.554800\n",
      "Epoch 12, CIFAR-10 Batch 1:  Loss:     1.0971 Validation Accuracy: 0.560800\n",
      "Epoch 12, CIFAR-10 Batch 2:  Loss:     0.9465 Validation Accuracy: 0.574000\n",
      "Epoch 12, CIFAR-10 Batch 3:  Loss:     0.7417 Validation Accuracy: 0.575600\n",
      "Epoch 12, CIFAR-10 Batch 4:  Loss:     0.7623 Validation Accuracy: 0.579800\n",
      "Epoch 12, CIFAR-10 Batch 5:  Loss:     0.9081 Validation Accuracy: 0.553400\n",
      "Epoch 13, CIFAR-10 Batch 1:  Loss:     1.0285 Validation Accuracy: 0.559800\n",
      "Epoch 13, CIFAR-10 Batch 2:  Loss:     0.9481 Validation Accuracy: 0.568200\n",
      "Epoch 13, CIFAR-10 Batch 3:  Loss:     0.7429 Validation Accuracy: 0.568400\n",
      "Epoch 13, CIFAR-10 Batch 4:  Loss:     0.7405 Validation Accuracy: 0.580200\n",
      "Epoch 13, CIFAR-10 Batch 5:  Loss:     0.8277 Validation Accuracy: 0.573400\n",
      "Epoch 14, CIFAR-10 Batch 1:  Loss:     0.9138 Validation Accuracy: 0.578800\n",
      "Epoch 14, CIFAR-10 Batch 2:  Loss:     0.8688 Validation Accuracy: 0.581600\n",
      "Epoch 14, CIFAR-10 Batch 3:  Loss:     0.6611 Validation Accuracy: 0.585400\n",
      "Epoch 14, CIFAR-10 Batch 4:  Loss:     0.6772 Validation Accuracy: 0.575200\n",
      "Epoch 14, CIFAR-10 Batch 5:  Loss:     0.7615 Validation Accuracy: 0.581600\n",
      "Epoch 15, CIFAR-10 Batch 1:  Loss:     0.8726 Validation Accuracy: 0.577600\n",
      "Epoch 15, CIFAR-10 Batch 2:  Loss:     0.8224 Validation Accuracy: 0.579600\n",
      "Epoch 15, CIFAR-10 Batch 3:  Loss:     0.6128 Validation Accuracy: 0.579000\n",
      "Epoch 15, CIFAR-10 Batch 4:  Loss:     0.6693 Validation Accuracy: 0.588600\n",
      "Epoch 15, CIFAR-10 Batch 5:  Loss:     0.6885 Validation Accuracy: 0.581200\n",
      "Epoch 16, CIFAR-10 Batch 1:  Loss:     0.8480 Validation Accuracy: 0.582600\n",
      "Epoch 16, CIFAR-10 Batch 2:  Loss:     0.7863 Validation Accuracy: 0.588000\n",
      "Epoch 16, CIFAR-10 Batch 3:  Loss:     0.5721 Validation Accuracy: 0.585600\n",
      "Epoch 16, CIFAR-10 Batch 4:  Loss:     0.6091 Validation Accuracy: 0.591000\n",
      "Epoch 16, CIFAR-10 Batch 5:  Loss:     0.6844 Validation Accuracy: 0.585800\n",
      "Epoch 17, CIFAR-10 Batch 1:  Loss:     0.8147 Validation Accuracy: 0.579200\n",
      "Epoch 17, CIFAR-10 Batch 2:  Loss:     0.7575 Validation Accuracy: 0.590000\n",
      "Epoch 17, CIFAR-10 Batch 3:  Loss:     0.5656 Validation Accuracy: 0.575600\n",
      "Epoch 17, CIFAR-10 Batch 4:  Loss:     0.6139 Validation Accuracy: 0.592600\n",
      "Epoch 17, CIFAR-10 Batch 5:  Loss:     0.5537 Validation Accuracy: 0.595000\n",
      "Epoch 18, CIFAR-10 Batch 1:  Loss:     0.7810 Validation Accuracy: 0.591200\n",
      "Epoch 18, CIFAR-10 Batch 2:  Loss:     0.6877 Validation Accuracy: 0.594800\n",
      "Epoch 18, CIFAR-10 Batch 3:  Loss:     0.5233 Validation Accuracy: 0.593800\n",
      "Epoch 18, CIFAR-10 Batch 4:  Loss:     0.5407 Validation Accuracy: 0.605000\n",
      "Epoch 18, CIFAR-10 Batch 5:  Loss:     0.5474 Validation Accuracy: 0.597800\n",
      "Epoch 19, CIFAR-10 Batch 1:  Loss:     0.8083 Validation Accuracy: 0.583600\n",
      "Epoch 19, CIFAR-10 Batch 2:  Loss:     0.6390 Validation Accuracy: 0.598000\n",
      "Epoch 19, CIFAR-10 Batch 3:  Loss:     0.5046 Validation Accuracy: 0.585800\n",
      "Epoch 19, CIFAR-10 Batch 4:  Loss:     0.5565 Validation Accuracy: 0.598000\n",
      "Epoch 19, CIFAR-10 Batch 5:  Loss:     0.4865 Validation Accuracy: 0.598200\n",
      "Epoch 20, CIFAR-10 Batch 1:  Loss:     0.7357 Validation Accuracy: 0.593800\n",
      "Epoch 20, CIFAR-10 Batch 2:  Loss:     0.6463 Validation Accuracy: 0.596800\n",
      "Epoch 20, CIFAR-10 Batch 3:  Loss:     0.4860 Validation Accuracy: 0.591200\n",
      "Epoch 20, CIFAR-10 Batch 4:  Loss:     0.6213 Validation Accuracy: 0.591800\n",
      "Epoch 20, CIFAR-10 Batch 5:  Loss:     0.4616 Validation Accuracy: 0.603200\n",
      "Epoch 21, CIFAR-10 Batch 1:  Loss:     0.6446 Validation Accuracy: 0.592400\n",
      "Epoch 21, CIFAR-10 Batch 2:  Loss:     0.6434 Validation Accuracy: 0.589200\n",
      "Epoch 21, CIFAR-10 Batch 3:  Loss:     0.4586 Validation Accuracy: 0.584400\n",
      "Epoch 21, CIFAR-10 Batch 4:  Loss:     0.5698 Validation Accuracy: 0.589600\n",
      "Epoch 21, CIFAR-10 Batch 5:  Loss:     0.4925 Validation Accuracy: 0.599600\n",
      "Epoch 22, CIFAR-10 Batch 1:  Loss:     0.6395 Validation Accuracy: 0.599600\n",
      "Epoch 22, CIFAR-10 Batch 2:  Loss:     0.6217 Validation Accuracy: 0.578400\n",
      "Epoch 22, CIFAR-10 Batch 3:  Loss:     0.4370 Validation Accuracy: 0.600800\n"
     ]
    },
    {
     "name": "stdout",
     "output_type": "stream",
     "text": [
      "Epoch 22, CIFAR-10 Batch 4:  Loss:     0.5280 Validation Accuracy: 0.603200\n",
      "Epoch 22, CIFAR-10 Batch 5:  Loss:     0.4760 Validation Accuracy: 0.600800\n",
      "Epoch 23, CIFAR-10 Batch 1:  Loss:     0.6050 Validation Accuracy: 0.597600\n",
      "Epoch 23, CIFAR-10 Batch 2:  Loss:     0.5792 Validation Accuracy: 0.588600\n",
      "Epoch 23, CIFAR-10 Batch 3:  Loss:     0.4377 Validation Accuracy: 0.591800\n",
      "Epoch 23, CIFAR-10 Batch 4:  Loss:     0.5252 Validation Accuracy: 0.589000\n",
      "Epoch 23, CIFAR-10 Batch 5:  Loss:     0.4537 Validation Accuracy: 0.603000\n",
      "Epoch 24, CIFAR-10 Batch 1:  Loss:     0.5766 Validation Accuracy: 0.598000\n",
      "Epoch 24, CIFAR-10 Batch 2:  Loss:     0.5529 Validation Accuracy: 0.589600\n",
      "Epoch 24, CIFAR-10 Batch 3:  Loss:     0.4196 Validation Accuracy: 0.596800\n",
      "Epoch 24, CIFAR-10 Batch 4:  Loss:     0.5118 Validation Accuracy: 0.600600\n",
      "Epoch 24, CIFAR-10 Batch 5:  Loss:     0.3785 Validation Accuracy: 0.602400\n",
      "Epoch 25, CIFAR-10 Batch 1:  Loss:     0.5586 Validation Accuracy: 0.598200\n",
      "Epoch 25, CIFAR-10 Batch 2:  Loss:     0.5157 Validation Accuracy: 0.597000\n",
      "Epoch 25, CIFAR-10 Batch 3:  Loss:     0.3843 Validation Accuracy: 0.596600\n",
      "Epoch 25, CIFAR-10 Batch 4:  Loss:     0.4991 Validation Accuracy: 0.596400\n",
      "Epoch 25, CIFAR-10 Batch 5:  Loss:     0.3739 Validation Accuracy: 0.611000\n",
      "Epoch 26, CIFAR-10 Batch 1:  Loss:     0.5126 Validation Accuracy: 0.605200\n",
      "Epoch 26, CIFAR-10 Batch 2:  Loss:     0.4863 Validation Accuracy: 0.570600\n",
      "Epoch 26, CIFAR-10 Batch 3:  Loss:     0.3835 Validation Accuracy: 0.595800\n",
      "Epoch 26, CIFAR-10 Batch 4:  Loss:     0.4964 Validation Accuracy: 0.594800\n",
      "Epoch 26, CIFAR-10 Batch 5:  Loss:     0.3618 Validation Accuracy: 0.604600\n",
      "Epoch 27, CIFAR-10 Batch 1:  Loss:     0.4679 Validation Accuracy: 0.603400\n",
      "Epoch 27, CIFAR-10 Batch 2:  Loss:     0.4564 Validation Accuracy: 0.588400\n",
      "Epoch 27, CIFAR-10 Batch 3:  Loss:     0.3646 Validation Accuracy: 0.601600\n",
      "Epoch 27, CIFAR-10 Batch 4:  Loss:     0.4078 Validation Accuracy: 0.596400\n",
      "Epoch 27, CIFAR-10 Batch 5:  Loss:     0.3442 Validation Accuracy: 0.600800\n",
      "Epoch 28, CIFAR-10 Batch 1:  Loss:     0.4138 Validation Accuracy: 0.607000\n",
      "Epoch 28, CIFAR-10 Batch 2:  Loss:     0.4582 Validation Accuracy: 0.592600\n",
      "Epoch 28, CIFAR-10 Batch 3:  Loss:     0.3289 Validation Accuracy: 0.601400\n",
      "Epoch 28, CIFAR-10 Batch 4:  Loss:     0.4252 Validation Accuracy: 0.600800\n",
      "Epoch 28, CIFAR-10 Batch 5:  Loss:     0.3644 Validation Accuracy: 0.611400\n",
      "Epoch 29, CIFAR-10 Batch 1:  Loss:     0.4664 Validation Accuracy: 0.611400\n",
      "Epoch 29, CIFAR-10 Batch 2:  Loss:     0.5122 Validation Accuracy: 0.587600\n",
      "Epoch 29, CIFAR-10 Batch 3:  Loss:     0.3325 Validation Accuracy: 0.587000\n",
      "Epoch 29, CIFAR-10 Batch 4:  Loss:     0.4200 Validation Accuracy: 0.597600\n",
      "Epoch 29, CIFAR-10 Batch 5:  Loss:     0.3490 Validation Accuracy: 0.610800\n",
      "Epoch 30, CIFAR-10 Batch 1:  Loss:     0.5390 Validation Accuracy: 0.602800\n",
      "Epoch 30, CIFAR-10 Batch 2:  Loss:     0.4288 Validation Accuracy: 0.603800\n",
      "Epoch 30, CIFAR-10 Batch 3:  Loss:     0.3055 Validation Accuracy: 0.602600\n",
      "Epoch 30, CIFAR-10 Batch 4:  Loss:     0.4264 Validation Accuracy: 0.595800\n",
      "Epoch 30, CIFAR-10 Batch 5:  Loss:     0.3183 Validation Accuracy: 0.611600\n",
      "Epoch 31, CIFAR-10 Batch 1:  Loss:     0.4782 Validation Accuracy: 0.603400\n",
      "Epoch 31, CIFAR-10 Batch 2:  Loss:     0.4186 Validation Accuracy: 0.603800\n",
      "Epoch 31, CIFAR-10 Batch 3:  Loss:     0.3116 Validation Accuracy: 0.601800\n",
      "Epoch 31, CIFAR-10 Batch 4:  Loss:     0.3570 Validation Accuracy: 0.602200\n",
      "Epoch 31, CIFAR-10 Batch 5:  Loss:     0.3203 Validation Accuracy: 0.603600\n",
      "Epoch 32, CIFAR-10 Batch 1:  Loss:     0.4563 Validation Accuracy: 0.589600\n",
      "Epoch 32, CIFAR-10 Batch 2:  Loss:     0.3977 Validation Accuracy: 0.605400\n",
      "Epoch 32, CIFAR-10 Batch 3:  Loss:     0.2768 Validation Accuracy: 0.600800\n",
      "Epoch 32, CIFAR-10 Batch 4:  Loss:     0.3926 Validation Accuracy: 0.602200\n",
      "Epoch 32, CIFAR-10 Batch 5:  Loss:     0.2688 Validation Accuracy: 0.609000\n",
      "Epoch 33, CIFAR-10 Batch 1:  Loss:     0.5397 Validation Accuracy: 0.584400\n",
      "Epoch 33, CIFAR-10 Batch 2:  Loss:     0.3744 Validation Accuracy: 0.608600\n",
      "Epoch 33, CIFAR-10 Batch 3:  Loss:     0.2760 Validation Accuracy: 0.601600\n",
      "Epoch 33, CIFAR-10 Batch 4:  Loss:     0.3522 Validation Accuracy: 0.609800\n",
      "Epoch 33, CIFAR-10 Batch 5:  Loss:     0.2796 Validation Accuracy: 0.612600\n",
      "Epoch 34, CIFAR-10 Batch 1:  Loss:     0.5001 Validation Accuracy: 0.583400\n",
      "Epoch 34, CIFAR-10 Batch 2:  Loss:     0.3985 Validation Accuracy: 0.604000\n",
      "Epoch 34, CIFAR-10 Batch 3:  Loss:     0.2735 Validation Accuracy: 0.602800\n",
      "Epoch 34, CIFAR-10 Batch 4:  Loss:     0.3181 Validation Accuracy: 0.609200\n",
      "Epoch 34, CIFAR-10 Batch 5:  Loss:     0.3955 Validation Accuracy: 0.596600\n",
      "Epoch 35, CIFAR-10 Batch 1:  Loss:     0.4087 Validation Accuracy: 0.585400\n",
      "Epoch 35, CIFAR-10 Batch 2:  Loss:     0.3932 Validation Accuracy: 0.607000\n",
      "Epoch 35, CIFAR-10 Batch 3:  Loss:     0.2694 Validation Accuracy: 0.609400\n",
      "Epoch 35, CIFAR-10 Batch 4:  Loss:     0.3369 Validation Accuracy: 0.612000\n",
      "Epoch 35, CIFAR-10 Batch 5:  Loss:     0.3280 Validation Accuracy: 0.600800\n",
      "Epoch 36, CIFAR-10 Batch 1:  Loss:     0.3864 Validation Accuracy: 0.597400\n",
      "Epoch 36, CIFAR-10 Batch 2:  Loss:     0.3580 Validation Accuracy: 0.607800\n",
      "Epoch 36, CIFAR-10 Batch 3:  Loss:     0.2659 Validation Accuracy: 0.607000\n",
      "Epoch 36, CIFAR-10 Batch 4:  Loss:     0.3245 Validation Accuracy: 0.603600\n",
      "Epoch 36, CIFAR-10 Batch 5:  Loss:     0.3183 Validation Accuracy: 0.598400\n",
      "Epoch 37, CIFAR-10 Batch 1:  Loss:     0.4641 Validation Accuracy: 0.589200\n",
      "Epoch 37, CIFAR-10 Batch 2:  Loss:     0.3276 Validation Accuracy: 0.608800\n",
      "Epoch 37, CIFAR-10 Batch 3:  Loss:     0.3178 Validation Accuracy: 0.586200\n",
      "Epoch 37, CIFAR-10 Batch 4:  Loss:     0.2757 Validation Accuracy: 0.606400\n",
      "Epoch 37, CIFAR-10 Batch 5:  Loss:     0.2835 Validation Accuracy: 0.598800\n",
      "Epoch 38, CIFAR-10 Batch 1:  Loss:     0.4373 Validation Accuracy: 0.584800\n",
      "Epoch 38, CIFAR-10 Batch 2:  Loss:     0.2916 Validation Accuracy: 0.603800\n",
      "Epoch 38, CIFAR-10 Batch 3:  Loss:     0.2438 Validation Accuracy: 0.601600\n",
      "Epoch 38, CIFAR-10 Batch 4:  Loss:     0.2683 Validation Accuracy: 0.604400\n",
      "Epoch 38, CIFAR-10 Batch 5:  Loss:     0.3356 Validation Accuracy: 0.593200\n",
      "Epoch 39, CIFAR-10 Batch 1:  Loss:     0.3624 Validation Accuracy: 0.595200\n",
      "Epoch 39, CIFAR-10 Batch 2:  Loss:     0.2757 Validation Accuracy: 0.603800\n",
      "Epoch 39, CIFAR-10 Batch 3:  Loss:     0.2092 Validation Accuracy: 0.592600\n",
      "Epoch 39, CIFAR-10 Batch 4:  Loss:     0.2771 Validation Accuracy: 0.610000\n",
      "Epoch 39, CIFAR-10 Batch 5:  Loss:     0.2942 Validation Accuracy: 0.580600\n",
      "Epoch 40, CIFAR-10 Batch 1:  Loss:     0.3711 Validation Accuracy: 0.589600\n",
      "Epoch 40, CIFAR-10 Batch 2:  Loss:     0.2884 Validation Accuracy: 0.593600\n",
      "Epoch 40, CIFAR-10 Batch 3:  Loss:     0.2271 Validation Accuracy: 0.595000\n",
      "Epoch 40, CIFAR-10 Batch 4:  Loss:     0.2731 Validation Accuracy: 0.600800\n",
      "Epoch 40, CIFAR-10 Batch 5:  Loss:     0.2876 Validation Accuracy: 0.593600\n",
      "Epoch 41, CIFAR-10 Batch 1:  Loss:     0.3566 Validation Accuracy: 0.595400\n",
      "Epoch 41, CIFAR-10 Batch 2:  Loss:     0.2889 Validation Accuracy: 0.607800\n",
      "Epoch 41, CIFAR-10 Batch 3:  Loss:     0.2754 Validation Accuracy: 0.590800\n",
      "Epoch 41, CIFAR-10 Batch 4:  Loss:     0.2367 Validation Accuracy: 0.602600\n",
      "Epoch 41, CIFAR-10 Batch 5:  Loss:     0.2536 Validation Accuracy: 0.608400\n",
      "Epoch 42, CIFAR-10 Batch 1:  Loss:     0.3586 Validation Accuracy: 0.600600\n",
      "Epoch 42, CIFAR-10 Batch 2:  Loss:     0.2598 Validation Accuracy: 0.603400\n",
      "Epoch 42, CIFAR-10 Batch 3:  Loss:     0.2293 Validation Accuracy: 0.590200\n",
      "Epoch 42, CIFAR-10 Batch 4:  Loss:     0.2943 Validation Accuracy: 0.607400\n",
      "Epoch 42, CIFAR-10 Batch 5:  Loss:     0.2898 Validation Accuracy: 0.596400\n",
      "Epoch 43, CIFAR-10 Batch 1:  Loss:     0.3512 Validation Accuracy: 0.602800\n",
      "Epoch 43, CIFAR-10 Batch 2:  Loss:     0.2708 Validation Accuracy: 0.620400\n",
      "Epoch 43, CIFAR-10 Batch 3:  Loss:     0.2103 Validation Accuracy: 0.594600\n",
      "Epoch 43, CIFAR-10 Batch 4:  Loss:     0.2355 Validation Accuracy: 0.603800\n",
      "Epoch 43, CIFAR-10 Batch 5:  Loss:     0.2809 Validation Accuracy: 0.588400\n",
      "Epoch 44, CIFAR-10 Batch 1:  Loss:     0.3088 Validation Accuracy: 0.609600\n"
     ]
    },
    {
     "name": "stdout",
     "output_type": "stream",
     "text": [
      "Epoch 44, CIFAR-10 Batch 2:  Loss:     0.2663 Validation Accuracy: 0.607400\n",
      "Epoch 44, CIFAR-10 Batch 3:  Loss:     0.2235 Validation Accuracy: 0.594800\n",
      "Epoch 44, CIFAR-10 Batch 4:  Loss:     0.2371 Validation Accuracy: 0.610000\n",
      "Epoch 44, CIFAR-10 Batch 5:  Loss:     0.2462 Validation Accuracy: 0.600400\n",
      "Epoch 45, CIFAR-10 Batch 1:  Loss:     0.3342 Validation Accuracy: 0.593200\n",
      "Epoch 45, CIFAR-10 Batch 2:  Loss:     0.2631 Validation Accuracy: 0.605600\n",
      "Epoch 45, CIFAR-10 Batch 3:  Loss:     0.1783 Validation Accuracy: 0.591800\n",
      "Epoch 45, CIFAR-10 Batch 4:  Loss:     0.1948 Validation Accuracy: 0.609400\n",
      "Epoch 45, CIFAR-10 Batch 5:  Loss:     0.2294 Validation Accuracy: 0.611200\n",
      "Epoch 46, CIFAR-10 Batch 1:  Loss:     0.2903 Validation Accuracy: 0.599400\n",
      "Epoch 46, CIFAR-10 Batch 2:  Loss:     0.2470 Validation Accuracy: 0.597800\n",
      "Epoch 46, CIFAR-10 Batch 3:  Loss:     0.1906 Validation Accuracy: 0.597600\n",
      "Epoch 46, CIFAR-10 Batch 4:  Loss:     0.2254 Validation Accuracy: 0.600600\n",
      "Epoch 46, CIFAR-10 Batch 5:  Loss:     0.2854 Validation Accuracy: 0.601800\n",
      "Epoch 47, CIFAR-10 Batch 1:  Loss:     0.2713 Validation Accuracy: 0.599000\n",
      "Epoch 47, CIFAR-10 Batch 2:  Loss:     0.2687 Validation Accuracy: 0.600000\n",
      "Epoch 47, CIFAR-10 Batch 3:  Loss:     0.1819 Validation Accuracy: 0.597800\n",
      "Epoch 47, CIFAR-10 Batch 4:  Loss:     0.2011 Validation Accuracy: 0.596000\n",
      "Epoch 47, CIFAR-10 Batch 5:  Loss:     0.2272 Validation Accuracy: 0.611600\n",
      "Epoch 48, CIFAR-10 Batch 1:  Loss:     0.2972 Validation Accuracy: 0.593000\n",
      "Epoch 48, CIFAR-10 Batch 2:  Loss:     0.2680 Validation Accuracy: 0.585400\n",
      "Epoch 48, CIFAR-10 Batch 3:  Loss:     0.1903 Validation Accuracy: 0.592400\n",
      "Epoch 48, CIFAR-10 Batch 4:  Loss:     0.2095 Validation Accuracy: 0.600200\n",
      "Epoch 48, CIFAR-10 Batch 5:  Loss:     0.2608 Validation Accuracy: 0.608200\n",
      "Epoch 49, CIFAR-10 Batch 1:  Loss:     0.2949 Validation Accuracy: 0.591800\n",
      "Epoch 49, CIFAR-10 Batch 2:  Loss:     0.2648 Validation Accuracy: 0.600400\n",
      "Epoch 49, CIFAR-10 Batch 3:  Loss:     0.1597 Validation Accuracy: 0.602200\n",
      "Epoch 49, CIFAR-10 Batch 4:  Loss:     0.1913 Validation Accuracy: 0.601400\n",
      "Epoch 49, CIFAR-10 Batch 5:  Loss:     0.2141 Validation Accuracy: 0.601400\n",
      "Epoch 50, CIFAR-10 Batch 1:  Loss:     0.2694 Validation Accuracy: 0.601800\n",
      "Epoch 50, CIFAR-10 Batch 2:  Loss:     0.2662 Validation Accuracy: 0.599600\n",
      "Epoch 50, CIFAR-10 Batch 3:  Loss:     0.1665 Validation Accuracy: 0.595600\n",
      "Epoch 50, CIFAR-10 Batch 4:  Loss:     0.2045 Validation Accuracy: 0.596800\n",
      "Epoch 50, CIFAR-10 Batch 5:  Loss:     0.2065 Validation Accuracy: 0.607800\n"
     ]
    }
   ],
   "source": [
    "\"\"\"\n",
    "DON'T MODIFY ANYTHING IN THIS CELL\n",
    "\"\"\"\n",
    "save_model_path = './image_classification'\n",
    "\n",
    "print('Training...')\n",
    "with tf.Session() as sess:\n",
    "    # Initializing the variables\n",
    "    sess.run(tf.global_variables_initializer())\n",
    "    \n",
    "    # Training cycle\n",
    "    for epoch in range(epochs):\n",
    "        # Loop over all batches\n",
    "        n_batches = 5\n",
    "        for batch_i in range(1, n_batches + 1):\n",
    "            for batch_features, batch_labels in helper.load_preprocess_training_batch(batch_i, batch_size):\n",
    "                train_neural_network(sess, optimizer, keep_probability, batch_features, batch_labels)\n",
    "            print('Epoch {:>2}, CIFAR-10 Batch {}:  '.format(epoch + 1, batch_i), end='')\n",
    "            print_stats(sess, batch_features, batch_labels, cost, accuracy)\n",
    "            \n",
    "    # Save Model\n",
    "    saver = tf.train.Saver()\n",
    "    save_path = saver.save(sess, save_model_path)"
   ]
  },
  {
   "cell_type": "markdown",
   "metadata": {},
   "source": [
    "# Checkpoint\n",
    "The model has been saved to disk.\n",
    "## Test Model\n",
    "Test your model against the test dataset.  This will be your final accuracy. You should have an accuracy greater than 50%. If you don't, keep tweaking the model architecture and parameters."
   ]
  },
  {
   "cell_type": "code",
   "execution_count": 41,
   "metadata": {},
   "outputs": [
    {
     "name": "stdout",
     "output_type": "stream",
     "text": [
      "INFO:tensorflow:Restoring parameters from ./image_classification\n",
      "Testing Accuracy: 0.5957278481012658\n",
      "\n"
     ]
    },
    {
     "data": {
      "image/png": "[encoded data removed]",
      "text/plain": [
       "<matplotlib.figure.Figure at 0x7f66df68a7f0>"
      ]
     },
     "metadata": {
      "image/png": {
       "height": 319,
       "width": 355
      }
     },
     "output_type": "display_data"
    }
   ],
   "source": [
    "\"\"\"\n",
    "DON'T MODIFY ANYTHING IN THIS CELL\n",
    "\"\"\"\n",
    "%matplotlib inline\n",
    "%config InlineBackend.figure_format = 'retina'\n",
    "\n",
    "import tensorflow as tf\n",
    "import pickle\n",
    "import helper\n",
    "import random\n",
    "\n",
    "# Set batch size if not already set\n",
    "try:\n",
    "    if batch_size:\n",
    "        pass\n",
    "except NameError:\n",
    "    batch_size = 64\n",
    "\n",
    "save_model_path = './image_classification'\n",
    "n_samples = 4\n",
    "top_n_predictions = 3\n",
    "\n",
    "def test_model():\n",
    "    \"\"\"\n",
    "    Test the saved model against the test dataset\n",
    "    \"\"\"\n",
    "\n",
    "    test_features, test_labels = pickle.load(open('preprocess_test.p', mode='rb'))\n",
    "    loaded_graph = tf.Graph()\n",
    "\n",
    "    with tf.Session(graph=loaded_graph) as sess:\n",
    "        # Load model\n",
    "        loader = tf.train.import_meta_graph(save_model_path + '.meta')\n",
    "        loader.restore(sess, save_model_path)\n",
    "\n",
    "        # Get Tensors from loaded model\n",
    "        loaded_x = loaded_graph.get_tensor_by_name('x:0')\n",
    "        loaded_y = loaded_graph.get_tensor_by_name('y:0')\n",
    "        loaded_keep_prob = loaded_graph.get_tensor_by_name('keep_prob:0')\n",
    "        loaded_logits = loaded_graph.get_tensor_by_name('logits:0')\n",
    "        loaded_acc = loaded_graph.get_tensor_by_name('accuracy:0')\n",
    "        \n",
    "        # Get accuracy in batches for memory limitations\n",
    "        test_batch_acc_total = 0\n",
    "        test_batch_count = 0\n",
    "        \n",
    "        for test_feature_batch, test_label_batch in helper.batch_features_labels(test_features, test_labels, batch_size):\n",
    "            test_batch_acc_total += sess.run(\n",
    "                loaded_acc,\n",
    "                feed_dict={loaded_x: test_feature_batch, loaded_y: test_label_batch, loaded_keep_prob: 1.0})\n",
    "            test_batch_count += 1\n",
    "\n",
    "        print('Testing Accuracy: {}\\n'.format(test_batch_acc_total/test_batch_count))\n",
    "\n",
    "        # Print Random Samples\n",
    "        random_test_features, random_test_labels = tuple(zip(*random.sample(list(zip(test_features, test_labels)), n_samples)))\n",
    "        random_test_predictions = sess.run(\n",
    "            tf.nn.top_k(tf.nn.softmax(loaded_logits), top_n_predictions),\n",
    "            feed_dict={loaded_x: random_test_features, loaded_y: random_test_labels, loaded_keep_prob: 1.0})\n",
    "        helper.display_image_predictions(random_test_features, random_test_labels, random_test_predictions)\n",
    "\n",
    "\n",
    "test_model()"
   ]
  },
  {
   "cell_type": "markdown",
   "metadata": {},
   "source": [
    "## Why 50-80% Accuracy?\n",
    "You might be wondering why you can't get an accuracy any higher. First things first, 50% isn't bad for a simple CNN.  Pure guessing would get you 10% accuracy. However, you might notice people are getting scores [well above 80%](http://rodrigob.github.io/are_we_there_yet/build/classification_datasets_results.html#43494641522d3130).  That's because we haven't taught you all there is to know about neural networks. We still need to cover a few more techniques.\n",
    "## Submitting This Project\n",
    "When submitting this project, make sure to run all the cells before saving the notebook.  Save the notebook file as \"dlnd_image_classification.ipynb\" and save it as a HTML file under \"File\" -> \"Download as\".  Include the \"helper.py\" and \"problem_unittests.py\" files in your submission."
   ]
  }
 ],
 "metadata": {
  "kernelspec": {
   "display_name": "Python 3",
   "language": "python",
   "name": "python3"
  },
  "language_info": {
   "codemirror_mode": {
    "name": "ipython",
    "version": 3
   },
   "file_extension": ".py",
   "mimetype": "text/x-python",
   "name": "python",
   "nbconvert_exporter": "python",
   "pygments_lexer": "ipython3",
   "version": "3.5.3"
  }
 },
 "nbformat": 4,
 "nbformat_minor": 1
}
